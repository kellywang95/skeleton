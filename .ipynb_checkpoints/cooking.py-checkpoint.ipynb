{
 "cells": [
  {
   "cell_type": "code",
   "execution_count": null,
   "metadata": {
    "collapsed": true
   },
   "outputs": [],
   "source": [
    "import json\n",
    "# from pprint import pprint\n",
    "from sklearn.naive_bayes import GaussianNB\n",
    "import nltk\n",
    "from sklearn import cross_validation\n",
    "\n",
    "\n",
    "with open('./cooking/train.json') as data_file:\n",
    "    data = json.load(data_file)\n",
    "    data\n",
    "    CuisineDict = {}\n",
    "    IngredientsDict = {}\n",
    "    res=[]\n",
    "    labelList=[]\n",
    "    for each in data:\n",
    "        temp = [0 for i in range(6714)]\n",
    "        labelList.append(each['cuisine'])\n",
    "        if each['cuisine'] not in CuisineDict:\n",
    "            CuisineDict[each['cuisine']] = 1\n",
    "        for j in each['ingredients']:\n",
    "            if j not in IngredientsDict:\n",
    "                IngredientsDict[j] = 1\n",
    "            ind=IngredientsDict.keys().index(j)\n",
    "            temp[ind]=1\n",
    "        res.append(temp)\n",
    "    res\n",
    "\n",
    "    print len(CuisineDict.keys())\n",
    "    print len(IngredientsDict.keys())\n",
    "\n",
    "# ingredients = [IngredientsDict.keys()]\n",
    "\n",
    "\n",
    "cv = cross_validation.KFold(len(res), n_folds=3)\n",
    "gnb = GaussianNB()\n",
    "#y_pred = gnb.fit(iris.data, iris.target).predict(iris.data)\n",
    "score=cross_val_score(gnb,res,labelList)\n",
    "print scores.mean()\n",
    "# pprint(data)"
   ]
  }
 ],
 "metadata": {
  "kernelspec": {
   "display_name": "Python 2",
   "language": "python",
   "name": "python2"
  },
  "language_info": {
   "codemirror_mode": {
    "name": "ipython",
    "version": 2
   },
   "file_extension": ".py",
   "mimetype": "text/x-python",
   "name": "python",
   "nbconvert_exporter": "python",
   "pygments_lexer": "ipython2",
   "version": "2.7.13"
  }
 },
 "nbformat": 4,
 "nbformat_minor": 2
}
